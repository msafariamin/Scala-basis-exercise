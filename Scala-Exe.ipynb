{
 "cells": [
  {
   "cell_type": "markdown",
   "metadata": {},
   "source": [
    "Convert 22.5 degrees Celsius to Fahrenheit."
   ]
  },
  {
   "cell_type": "code",
   "execution_count": 1,
   "metadata": {},
   "outputs": [
    {
     "data": {
      "text/plain": [
       "72.5"
      ]
     },
     "execution_count": 1,
     "metadata": {},
     "output_type": "execute_result"
    }
   ],
   "source": [
    "(22.5*9/5)+32"
   ]
  },
  {
   "cell_type": "markdown",
   "metadata": {},
   "source": [
    "Convert again by saving each step of the conversion in separate values. according to you, what will be the type of each value?"
   ]
  },
  {
   "cell_type": "code",
   "execution_count": null,
   "metadata": {},
   "outputs": [],
   "source": [
    "var Far = (22.5*9/5)+32"
   ]
  },
  {
   "cell_type": "markdown",
   "metadata": {},
   "source": [
    " Change the formula from Centigrade to Fahrenheit to get an integer instead of a number to\n",
    "floating point."
   ]
  },
  {
   "cell_type": "code",
   "execution_count": null,
   "metadata": {},
   "outputs": [],
   "source": [
    "9.0/5.0\n",
    "Far.round"
   ]
  },
  {
   "cell_type": "markdown",
   "metadata": {},
   "source": [
    "Using the input value 2.7255, generate the string \"You owe $ 2.73.\" Is it feasible with\n",
    "the interpolation of strings?"
   ]
  },
  {
   "cell_type": "code",
   "execution_count": null,
   "metadata": {},
   "outputs": [],
   "source": [
    "val nbr=2.7255\n",
    "println(f\"vous devez,$nbr%1.2f\" + \"$\")"
   ]
  },
  {
   "cell_type": "markdown",
   "metadata": {},
   "source": [
    " Is there a simpler way to write the following: val flag: Boolean = false\n",
    "val result: Boolean = (flag === false)"
   ]
  },
  {
   "cell_type": "code",
   "execution_count": null,
   "metadata": {},
   "outputs": [],
   "source": [
    "val flag: Boolean=false\n",
    "val result: Boolean=(flag ==false)\n",
    "val result = !flag"
   ]
  },
  {
   "cell_type": "markdown",
   "metadata": {},
   "source": [
    "Convert a number into a character, a string, a double, then return to an Int. Do you think that the original amount will be kept?"
   ]
  },
  {
   "cell_type": "code",
   "execution_count": null,
   "metadata": {},
   "outputs": [],
   "source": [
    "val nbr = 76\n",
    "val nbr_str = nbr.toString\n",
    "nbr.toChar\n",
    "val nbr_chr = nbr.toChar\n",
    "nbr_chr.toInt"
   ]
  }
 ],
 "metadata": {
  "kernelspec": {
   "display_name": "Python 3",
   "language": "python",
   "name": "python3"
  },
  "language_info": {
   "codemirror_mode": {
    "name": "ipython",
    "version": 3
   },
   "file_extension": ".py",
   "mimetype": "text/x-python",
   "name": "python",
   "nbconvert_exporter": "python",
   "pygments_lexer": "ipython3",
   "version": "3.7.3"
  }
 },
 "nbformat": 4,
 "nbformat_minor": 2
}
